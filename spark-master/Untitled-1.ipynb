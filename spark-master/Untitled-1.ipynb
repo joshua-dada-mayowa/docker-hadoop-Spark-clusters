{
 "cells": [
  {
   "cell_type": "code",
   "execution_count": 1,
   "metadata": {},
   "outputs": [
    {
     "name": "stdout",
     "output_type": "stream",
     "text": [
      "Defaulting to user installation because normal site-packages is not writeable\n",
      "Collecting pytube\n",
      "  Downloading pytube-15.0.0-py3-none-any.whl.metadata (5.0 kB)\n",
      "Downloading pytube-15.0.0-py3-none-any.whl (57 kB)\n",
      "Installing collected packages: pytube\n",
      "Successfully installed pytube-15.0.0\n",
      "Note: you may need to restart the kernel to use updated packages.\n"
     ]
    },
    {
     "name": "stderr",
     "output_type": "stream",
     "text": [
      "\n",
      "[notice] A new release of pip is available: 24.3.1 -> 25.0.1\n",
      "[notice] To update, run: python.exe -m pip install --upgrade pip\n"
     ]
    }
   ],
   "source": [
    "pip install pytube"
   ]
  },
  {
   "cell_type": "code",
   "execution_count": 3,
   "metadata": {},
   "outputs": [
    {
     "name": "stdout",
     "output_type": "stream",
     "text": [
      "Error: HTTP Error 403: Forbidden\n"
     ]
    }
   ],
   "source": [
    "from pytube import YouTube\n",
    "import os\n",
    "\n",
    "def download_youtube_video(url, output_path=\".\"):\n",
    "    try:\n",
    "        # Create YouTube object\n",
    "        yt = YouTube(url)\n",
    "        \n",
    "        # Get the highest resolution stream\n",
    "        stream = yt.streams.get_highest_resolution()\n",
    "        \n",
    "        # Download the video\n",
    "        print(f\"Downloading: {yt.title}...\")\n",
    "        stream.download(output_path)\n",
    "        print(\"Download completed!\")\n",
    "        \n",
    "    except Exception as e:\n",
    "        print(f\"Error: {e}\")\n",
    "\n",
    "if __name__ == \"__main__\":\n",
    "    # YouTube URL (live or regular video)\n",
    "    url = \"https://www.youtube.com/live/D7BzTxVVMuw?si=DJ3R6izZ8sak0b6o\"\n",
    "    \n",
    "    # Download the video to the current directory\n",
    "    download_youtube_video(url)"
   ]
  },
  {
   "cell_type": "code",
   "execution_count": 4,
   "metadata": {},
   "outputs": [
    {
     "name": "stdout",
     "output_type": "stream",
     "text": [
      "Defaulting to user installation because normal site-packages is not writeableNote: you may need to restart the kernel to use updated packages.\n"
     ]
    },
    {
     "name": "stderr",
     "output_type": "stream",
     "text": [
      "\n",
      "[notice] A new release of pip is available: 24.3.1 -> 25.0.1\n",
      "[notice] To update, run: python.exe -m pip install --upgrade pip\n"
     ]
    },
    {
     "name": "stdout",
     "output_type": "stream",
     "text": [
      "\n",
      "Collecting yt-dlp\n",
      "  Downloading yt_dlp-2025.2.19-py3-none-any.whl.metadata (171 kB)\n",
      "Downloading yt_dlp-2025.2.19-py3-none-any.whl (3.2 MB)\n",
      "   ---------------------------------------- 0.0/3.2 MB ? eta -:--:--\n",
      "   --- ------------------------------------ 0.3/3.2 MB ? eta -:--:--\n",
      "   ------------- -------------------------- 1.0/3.2 MB 3.0 MB/s eta 0:00:01\n",
      "   ------------------------------------ --- 2.9/3.2 MB 5.3 MB/s eta 0:00:01\n",
      "   ---------------------------------------- 3.2/3.2 MB 5.3 MB/s eta 0:00:00\n",
      "Installing collected packages: yt-dlp\n",
      "Successfully installed yt-dlp-2025.2.19\n"
     ]
    }
   ],
   "source": [
    "pip install yt-dlp"
   ]
  },
  {
   "cell_type": "code",
   "execution_count": 5,
   "metadata": {},
   "outputs": [
    {
     "name": "stdout",
     "output_type": "stream",
     "text": [
      "Downloading: https://www.youtube.com/live/D7BzTxVVMuw?si=DJ3R6izZ8sak0b6o...\n",
      "[youtube] Extracting URL: https://www.youtube.com/live/D7BzTxVVMuw?si=DJ3R6izZ8sak0b6o\n",
      "[youtube] D7BzTxVVMuw: Downloading webpage\n",
      "[youtube] D7BzTxVVMuw: Downloading tv client config\n",
      "[youtube] D7BzTxVVMuw: Downloading player 56511309\n",
      "[youtube] D7BzTxVVMuw: Downloading tv player API JSON\n",
      "[youtube] D7BzTxVVMuw: Downloading ios player API JSON\n",
      "[youtube] D7BzTxVVMuw: Downloading m3u8 information\n",
      "[info] D7BzTxVVMuw: Downloading 1 format(s): 18\n",
      "[download] Destination: AI Engineer Summit 2025： Agent Engineering (Day 2).mp4\n",
      "[download] 100% of  743.24MiB in 00:03:01 at 4.09MiB/s      \n",
      "Download completed!\n"
     ]
    }
   ],
   "source": [
    "from yt_dlp import YoutubeDL\n",
    "\n",
    "def download_youtube_video(url, output_path=\".\"):\n",
    "    try:\n",
    "        # Options for yt-dlp\n",
    "        ydl_opts = {\n",
    "            'outtmpl': os.path.join(output_path, '%(title)s.%(ext)s'),  # Save file as video title\n",
    "            'format': 'best',  # Download the best quality\n",
    "        }\n",
    "        \n",
    "        with YoutubeDL(ydl_opts) as ydl:\n",
    "            print(f\"Downloading: {url}...\")\n",
    "            ydl.download([url])\n",
    "            print(\"Download completed!\")\n",
    "    \n",
    "    except Exception as e:\n",
    "        print(f\"Error: {e}\")\n",
    "\n",
    "if __name__ == \"__main__\":\n",
    "    # YouTube URL (live or regular video)\n",
    "    url = \"https://www.youtube.com/live/D7BzTxVVMuw?si=DJ3R6izZ8sak0b6o\"\n",
    "    \n",
    "    # Download the video to the current directory\n",
    "    download_youtube_video(url)"
   ]
  }
 ],
 "metadata": {
  "kernelspec": {
   "display_name": "Python 3",
   "language": "python",
   "name": "python3"
  },
  "language_info": {
   "codemirror_mode": {
    "name": "ipython",
    "version": 3
   },
   "file_extension": ".py",
   "mimetype": "text/x-python",
   "name": "python",
   "nbconvert_exporter": "python",
   "pygments_lexer": "ipython3",
   "version": "3.13.1"
  }
 },
 "nbformat": 4,
 "nbformat_minor": 2
}
